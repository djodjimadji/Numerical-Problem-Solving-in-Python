{
 "cells": [
  {
   "cell_type": "markdown",
   "metadata": {},
   "source": [
    "Write python code to solve the following system of ordinary differential equations using the python function odeint."
   ]
  },
  {
   "cell_type": "markdown",
   "metadata": {},
   "source": [
    "$$\n",
    "\\begin{cases}\n",
    "\\dfrac{dx}{dt}& = & e^t\\\\\n",
    "\\dfrac{dy}{dt}& = & x+2t\\\\\n",
    "\\dfrac{dz}{dt}& = & 3y-10t\n",
    "\\end{cases}\n",
    "$$"
   ]
  },
  {
   "cell_type": "markdown",
   "metadata": {},
   "source": [
    "Exact solution"
   ]
  },
  {
   "cell_type": "markdown",
   "metadata": {},
   "source": [
    "$$\n",
    "\\begin{cases}\n",
    "x(t)& = & c_1e^t\\\\\n",
    "y(t)& = & c_1e^t + t^2 +c_2\\\\\n",
    "z(t)& = & 3c_1e^t+t^3+3c_2t-5t^2+c_3\n",
    "\\end{cases}\n",
    "$$"
   ]
  },
  {
   "cell_type": "markdown",
   "metadata": {},
   "source": [
    "Initial conditions\n",
    "\n",
    "$$x(0) = 1, y(0) = -2, z(0) = 0$$\n",
    "\n",
    "Particular solution\n",
    "\n",
    "$$c_1 = 1, c_2 = -2, c_3 = -3$$\n",
    "\n",
    "$$\n",
    "\\begin{cases}\n",
    "x(t)& = & e^t\\\\\n",
    "y(t)& = & e^t+t^2-3\\\\\n",
    "z(t)& = & 3e^t+t^3-9t-5t^2-3\n",
    "\\end{cases}\n",
    "$$"
   ]
  },
  {
   "cell_type": "markdown",
   "metadata": {},
   "source": [
    "Write python code to solve the following Integrals"
   ]
  },
  {
   "cell_type": "markdown",
   "metadata": {},
   "source": [
    "$$\\int_{0}^{2} \\dfrac{x^3+5x-20}{x^2+3}dx$$\n",
    "\n",
    "$$\\int_{3}^{5} \\bigg(x-\\frac{1}{3}\\bigg)\\sqrt{x^4-3}dx$$\n"
   ]
  },
  {
   "cell_type": "code",
   "execution_count": null,
   "metadata": {},
   "outputs": [],
   "source": []
  }
 ],
 "metadata": {
  "kernelspec": {
   "display_name": "Python 3 (ipykernel)",
   "language": "python",
   "name": "python3"
  },
  "language_info": {
   "codemirror_mode": {
    "name": "ipython",
    "version": 3
   },
   "file_extension": ".py",
   "mimetype": "text/x-python",
   "name": "python",
   "nbconvert_exporter": "python",
   "pygments_lexer": "ipython3",
   "version": "3.9.7"
  }
 },
 "nbformat": 4,
 "nbformat_minor": 4
}
